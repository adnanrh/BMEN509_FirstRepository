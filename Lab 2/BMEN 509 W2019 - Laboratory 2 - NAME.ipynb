{
 "cells": [
  {
   "cell_type": "markdown",
   "metadata": {},
   "source": [
    "# BMEN 509 - Laboratory 2 - Frequency Domain\n",
    "The purpose of this laboratory is to become familiar with the frequency domain representation of\n",
    "images. In this exercise, you will demonstrate 1) a basic understanding of the frequency domain, 2)\n",
    "understanding the inverse discrete Fourier transform, and 3) frequency domain filtering.\n",
    "\n",
    "Your rubric is as follows:\n",
    "<img src=\"NotebookImages/Rubric2.png\" alt=\"Rubric\" width=\"600\"/>\n",
    "\n",
    "Please use this notebook to complete your assignment. Sections to be completed are blank and are marked by `TODO`. Please upload the notebook (.ipynb) and as a PDF (.pdf) by using File > Download as > PDF via LaTeX."
   ]
  },
  {
   "cell_type": "markdown",
   "metadata": {},
   "source": [
    "TODO: Bryce A. Besler, November 19th, 2018\n",
    "\n",
    "### Objective\n",
    "TODO"
   ]
  },
  {
   "cell_type": "markdown",
   "metadata": {},
   "source": [
    "## Notebook Setup"
   ]
  },
  {
   "cell_type": "code",
   "execution_count": null,
   "metadata": {},
   "outputs": [],
   "source": [
    "# Library Imports\n",
    "import os\n",
    "import numpy as np\n",
    "import matplotlib.pyplot as plt\n",
    "from skimage import io\n",
    "from scipy import signal, ndimage\n",
    "from mpl_toolkits import mplot3d\n",
    "\n",
    "# Setup Jupyter notebook specifics\n",
    "%matplotlib inline\n",
    "\n",
    "# Numpy printing help\n",
    "np.set_printoptions(precision=2)"
   ]
  },
  {
   "cell_type": "code",
   "execution_count": null,
   "metadata": {},
   "outputs": [],
   "source": [
    "# Constants\n",
    "data_directory = os.path.join('.', 'Data')\n",
    "file_names = [\n",
    "    'BreastUltrasound5.tif', 'T1Weighted8.jpg',\n",
    "    'Thorax_PD.png', 'calcs_grids.tiff',\n",
    "    'knee_ct2.tif', 'knee_xray2.tif',\n",
    "    'mri_T2.tif', 'mri_brain.tif',\n",
    "    'mri_pd.tif'\n",
    "]"
   ]
  },
  {
   "cell_type": "code",
   "execution_count": null,
   "metadata": {},
   "outputs": [],
   "source": [
    "# Verify we can find our files\n",
    "for file_name in file_names:\n",
    "    name = os.path.join(data_directory, file_name)\n",
    "    if not os.path.isfile(name):\n",
    "        os.sys.exit('Cannot find file {}. Please make sure you have downloaded the data'.format(name))\n",
    "print('Found all image files!')"
   ]
  },
  {
   "cell_type": "markdown",
   "metadata": {},
   "source": [
    "## Question 1 - Visualizing the Frequency Domain\n",
    "Using the images `knee_ct2.tif`, `knee_xray2.tif`, `mri-pd.tif` and `T1Weighted8.jpg` do the following:\n",
    "1. Load and display each image\n",
    "2. Compute the Discrete Fourier Transform (DFT) of each image (i.e. the transform from space to frequency domain)\n",
    "3. Display the real, imaginary, magnitude, and phase components for each image. Make sure to scale each component into a visible range.\n",
    "\n",
    "Answer the following questions:\n",
    "1. Are the pixels in a DFT image real valued or complex valued?\n",
    "2. What do the \"magnitude\" and \"phase\" components represent?\n",
    "3. Why do some components need to be scaled?"
   ]
  },
  {
   "cell_type": "code",
   "execution_count": null,
   "metadata": {
    "scrolled": false
   },
   "outputs": [],
   "source": [
    "# TODO: Write code here"
   ]
  },
  {
   "cell_type": "code",
   "execution_count": null,
   "metadata": {},
   "outputs": [],
   "source": [
    "print('''Question 1: Are the pixels in a DFT image real valued or complex valued?\n",
    "TODO: Answer question\n",
    "''')\n",
    "\n",
    "print('''Question 2: What do the \"magnitude\" and \"phase\" components represent?\n",
    "TODO: Answer question\n",
    "''')\n",
    "\n",
    "print('''Question 3: Why do some components need to be scaled?\n",
    "TODO: Answer question\n",
    "''')"
   ]
  },
  {
   "cell_type": "markdown",
   "metadata": {},
   "source": [
    "## Question 2 - Understanding Phase and Magnitude\n",
    "A Magnetic Resonance (MR) scanner produces images by collecting data in k-space, the colloquial name for the frequency domain. An inverse DFT (i.e. the transform from frequency to space) must be applied to reconstruct the original image. To better understand the importance of both the magnitude and phase when calculating the inverse DFT, we will reconstruct each image with only the magnitude or phase component. For the images `knee_ct2.tif`, `knee_xray2.tif`, `mri-pd.tif` and `T1Weighted8.jpg`:\n",
    "1. Load each image and compute the DFT\n",
    "2. Reconstruct the image with only the magnitude information\n",
    "3. Reconstruct the image with only the phase information\n",
    "\n",
    "The function `equalize` performs histogram equalization. This can be beneficial for visualizing the magnitude and phase reconstructions.\n",
    "\n",
    "Answer the following questions:\n",
    "1. Looking at each image, compare the original image, the magnitude reconstruction, and the phase reconstruction. Waht differences do you see?\n",
    "2. How does phase contribute to image reconstruction?\n",
    "3. How does magnitude contribute to image reconstruction?"
   ]
  },
  {
   "cell_type": "code",
   "execution_count": null,
   "metadata": {},
   "outputs": [],
   "source": [
    "def equalize(image):\n",
    "    '''Given an image, equalize the histogram to be easily visualized.\n",
    "    \n",
    "    This code is based on this blog post: http://www.janeriksolem.net/histogram-equalization-with-python-and.html\n",
    "    \n",
    "    To learn more about histogram equalization, see: https://en.wikipedia.org/wiki/Histogram_equalization\n",
    "    '''\n",
    "    \n",
    "    # Compute CDF\n",
    "    hist, bins = np.histogram(image.ravel())\n",
    "    cdf = np.cumsum(hist)\n",
    "    \n",
    "    # Now we do linear interpolation\n",
    "    resampled = np.interp(image.flatten(), bins[:-1], cdf)\n",
    "    \n",
    "    # Resample\n",
    "    new_image = resampled.reshape(image.shape)\n",
    "    \n",
    "    return new_image"
   ]
  },
  {
   "cell_type": "code",
   "execution_count": null,
   "metadata": {
    "scrolled": false
   },
   "outputs": [],
   "source": [
    "# TODO: Write code here"
   ]
  },
  {
   "cell_type": "code",
   "execution_count": null,
   "metadata": {},
   "outputs": [],
   "source": [
    "print('''Question 1: Looking at each image, compare the original image, the magnitude reconstruction, and the phase reconstruction. Waht differences do you see?\n",
    "TODO: Answer question\n",
    "''')\n",
    "print('''Question 2: How does phase contribute to image reconstruction?\n",
    "TODO: Answer question\n",
    "''')\n",
    "print('''Question 3: How does magnitude contribute to image reconstruction?\n",
    "TODO: Answer question\n",
    "''')"
   ]
  },
  {
   "cell_type": "markdown",
   "metadata": {},
   "source": [
    "## Question 3 - Reduced Sampling in the Frequency Domain\n",
    "A current research topic in MR imaging is reconstructing high quality image with fewer samples in k-space (the frequency domain). Reducing the number of samples in k-space can greatly reduce scan time (i.e. the time that the patient is in the MR scanner). Here, we are going to explore what happens when we reconstruct our image with fewer samples in the frequency domain.\n",
    "\n",
    "Using the image `mri_pd.tif`, do the following:\n",
    "1. Load the image and display it\n",
    "2. Calculate the DFT and display the scaled magnitude response\n",
    "3. Modify the frequency content by removing the smallest 10%, 50%, 90%, 95%, and 99% of the components (by magnitude). This can be accomplished by setting these components to zero\n",
    "4. Display the magnitude response of the reduced DFT for all five cases\n",
    "5. Reconstruct images for each of the five DFTs with reduced samples and display the resulting images.\n",
    "\n",
    "Answer the following questions:\n",
    "1. As more samples are removed, what changes in the magnitude response?\n",
    "2. As more samples are removed, what happens to the reconstructed image? You may have to look closely at the ventricles of the brain."
   ]
  },
  {
   "cell_type": "code",
   "execution_count": null,
   "metadata": {
    "scrolled": false
   },
   "outputs": [],
   "source": [
    "# TODO: Write code here"
   ]
  },
  {
   "cell_type": "code",
   "execution_count": null,
   "metadata": {
    "scrolled": false
   },
   "outputs": [],
   "source": [
    "print('''Question 1: As more samples are removed, what changes in the magnitude response?\n",
    "TODO: Answer question\n",
    "''')\n",
    "\n",
    "print('''Question 2: As more samples are removed, what happens to the reconstructed image? You may have to look closely at the ventricles of the brain.\n",
    "TODO: Answer question\n",
    "''')"
   ]
  },
  {
   "cell_type": "markdown",
   "metadata": {},
   "source": [
    "## Question 4 - Frequency Domain Filtering\n",
    "The image calcs grids.tiff has a periodic artefact that reduces the quality of the image. This is\n",
    "actually a phantom for detecting breast cancer, which is represented by the six dots in the image.\n",
    "Our objective is to produce a frequency domain filter which removes these periodic artifacts. Note\n",
    "that there are six artefacts placed at integer distances from another. If the first artefact appears at\n",
    "frequency $(0, u)$, the remaining artefacts appear at $(\n",
    "0, \\pm u)$, $(0, \\pm 2u)$, and $(0, \\pm 3u)$.\n",
    "For the image `calcs_grids.tiff`, do the following:\n",
    "1. Load the image and display it\n",
    "2. Compute the DFT and display the magnitude response\n",
    "3. Looking at the magnitude response, indicate the location of the artefacts\n",
    "4. Design a filter in the frequency domain to remove those artefacts\n",
    "5. Reconstruct the fltered image using an inverse DFT\n",
    "\n",
    "Answer the following questions:\n",
    "1. Looking at your magnitude response, where are the artifacts located?\n",
    "2. Describe how you designed your frequency domain filter.\n",
    "3. Comparing the original image to the artefact removed image, how well did you do at reducing the unwanted responses?"
   ]
  },
  {
   "cell_type": "code",
   "execution_count": null,
   "metadata": {},
   "outputs": [],
   "source": [
    "# TODO: Write code here"
   ]
  },
  {
   "cell_type": "code",
   "execution_count": null,
   "metadata": {
    "scrolled": false
   },
   "outputs": [],
   "source": [
    "print('''Question 1: Looking at your magnitude response, where are the artifacts located?\n",
    "TODO: Answer question\n",
    "''')\n",
    "\n",
    "print('''Question 2: Describe how you designed your frequency domain filter.\n",
    "TODO: Answer question\n",
    "''')\n",
    "\n",
    "print('''Question 3: Comparing the original image to the artefact removed image, how well did you do at reducing the unwanted responses?\n",
    "TODO: Answer question\n",
    "''')"
   ]
  },
  {
   "cell_type": "markdown",
   "metadata": {},
   "source": [
    "### Conclusion\n",
    "TODO: Write your conclusion here"
   ]
  },
  {
   "cell_type": "code",
   "execution_count": null,
   "metadata": {},
   "outputs": [],
   "source": []
  }
 ],
 "metadata": {
  "kernelspec": {
   "display_name": "Python 3",
   "language": "python",
   "name": "python3"
  },
  "language_info": {
   "codemirror_mode": {
    "name": "ipython",
    "version": 3
   },
   "file_extension": ".py",
   "mimetype": "text/x-python",
   "name": "python",
   "nbconvert_exporter": "python",
   "pygments_lexer": "ipython3",
   "version": "3.7.1"
  }
 },
 "nbformat": 4,
 "nbformat_minor": 2
}
